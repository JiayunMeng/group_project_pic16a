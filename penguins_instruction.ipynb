{
 "cells": [
  {
   "cell_type": "markdown",
   "id": "9f602f3f",
   "metadata": {},
   "source": [
    "# Goal\n",
    "The aim of this project is to determine the best combination of features (one qualitative feature and two quantitative features) of the penguins to predict the species of a penguin."
   ]
  },
  {
   "cell_type": "code",
   "execution_count": 86,
   "id": "a4588512",
   "metadata": {},
   "outputs": [],
   "source": [
    "import pandas as pd\n",
    "import numpy as np\n",
    "from itertools import combinations\n",
    "from sklearn.model_selection import train_test_split"
   ]
  },
  {
   "cell_type": "code",
   "execution_count": 87,
   "id": "37b4bc22",
   "metadata": {},
   "outputs": [
    {
     "name": "stdout",
     "output_type": "stream",
     "text": [
      "  % Total    % Received % Xferd  Average Speed   Time    Time     Time  Current\n",
      "                                 Dload  Upload   Total   Spent    Left  Speed\n",
      "100  5884  100  5884    0     0   113k      0 --:--:-- --:--:-- --:--:--  114k\n"
     ]
    }
   ],
   "source": [
    "!curl -O https://raw.githubusercontent.com/JiayunMeng/group_project_pic16a/main/penguins.py\n",
    "%run penguins.py"
   ]
  },
  {
   "cell_type": "markdown",
   "id": "bff67c22",
   "metadata": {},
   "source": [
    "# Preparation of Data\n",
    "First, we import the data frame and take a quik look at it."
   ]
  },
  {
   "cell_type": "code",
   "execution_count": 88,
   "id": "9ca027b2",
   "metadata": {},
   "outputs": [
    {
     "data": {
      "text/html": [
       "<div>\n",
       "<style scoped>\n",
       "    .dataframe tbody tr th:only-of-type {\n",
       "        vertical-align: middle;\n",
       "    }\n",
       "\n",
       "    .dataframe tbody tr th {\n",
       "        vertical-align: top;\n",
       "    }\n",
       "\n",
       "    .dataframe thead th {\n",
       "        text-align: right;\n",
       "    }\n",
       "</style>\n",
       "<table border=\"1\" class=\"dataframe\">\n",
       "  <thead>\n",
       "    <tr style=\"text-align: right;\">\n",
       "      <th></th>\n",
       "      <th>studyName</th>\n",
       "      <th>Sample Number</th>\n",
       "      <th>Species</th>\n",
       "      <th>Region</th>\n",
       "      <th>Island</th>\n",
       "      <th>Stage</th>\n",
       "      <th>Individual ID</th>\n",
       "      <th>Clutch Completion</th>\n",
       "      <th>Date Egg</th>\n",
       "      <th>Culmen Length (mm)</th>\n",
       "      <th>Culmen Depth (mm)</th>\n",
       "      <th>Flipper Length (mm)</th>\n",
       "      <th>Body Mass (g)</th>\n",
       "      <th>Sex</th>\n",
       "      <th>Delta 15 N (o/oo)</th>\n",
       "      <th>Delta 13 C (o/oo)</th>\n",
       "      <th>Comments</th>\n",
       "    </tr>\n",
       "  </thead>\n",
       "  <tbody>\n",
       "    <tr>\n",
       "      <th>0</th>\n",
       "      <td>PAL0708</td>\n",
       "      <td>1</td>\n",
       "      <td>Adelie Penguin (Pygoscelis adeliae)</td>\n",
       "      <td>Anvers</td>\n",
       "      <td>Torgersen</td>\n",
       "      <td>Adult, 1 Egg Stage</td>\n",
       "      <td>N1A1</td>\n",
       "      <td>Yes</td>\n",
       "      <td>11/11/07</td>\n",
       "      <td>39.1</td>\n",
       "      <td>18.7</td>\n",
       "      <td>181.0</td>\n",
       "      <td>3750.0</td>\n",
       "      <td>MALE</td>\n",
       "      <td>NaN</td>\n",
       "      <td>NaN</td>\n",
       "      <td>Not enough blood for isotopes.</td>\n",
       "    </tr>\n",
       "    <tr>\n",
       "      <th>1</th>\n",
       "      <td>PAL0708</td>\n",
       "      <td>2</td>\n",
       "      <td>Adelie Penguin (Pygoscelis adeliae)</td>\n",
       "      <td>Anvers</td>\n",
       "      <td>Torgersen</td>\n",
       "      <td>Adult, 1 Egg Stage</td>\n",
       "      <td>N1A2</td>\n",
       "      <td>Yes</td>\n",
       "      <td>11/11/07</td>\n",
       "      <td>39.5</td>\n",
       "      <td>17.4</td>\n",
       "      <td>186.0</td>\n",
       "      <td>3800.0</td>\n",
       "      <td>FEMALE</td>\n",
       "      <td>8.94956</td>\n",
       "      <td>-24.69454</td>\n",
       "      <td>NaN</td>\n",
       "    </tr>\n",
       "    <tr>\n",
       "      <th>2</th>\n",
       "      <td>PAL0708</td>\n",
       "      <td>3</td>\n",
       "      <td>Adelie Penguin (Pygoscelis adeliae)</td>\n",
       "      <td>Anvers</td>\n",
       "      <td>Torgersen</td>\n",
       "      <td>Adult, 1 Egg Stage</td>\n",
       "      <td>N2A1</td>\n",
       "      <td>Yes</td>\n",
       "      <td>11/16/07</td>\n",
       "      <td>40.3</td>\n",
       "      <td>18.0</td>\n",
       "      <td>195.0</td>\n",
       "      <td>3250.0</td>\n",
       "      <td>FEMALE</td>\n",
       "      <td>8.36821</td>\n",
       "      <td>-25.33302</td>\n",
       "      <td>NaN</td>\n",
       "    </tr>\n",
       "    <tr>\n",
       "      <th>3</th>\n",
       "      <td>PAL0708</td>\n",
       "      <td>4</td>\n",
       "      <td>Adelie Penguin (Pygoscelis adeliae)</td>\n",
       "      <td>Anvers</td>\n",
       "      <td>Torgersen</td>\n",
       "      <td>Adult, 1 Egg Stage</td>\n",
       "      <td>N2A2</td>\n",
       "      <td>Yes</td>\n",
       "      <td>11/16/07</td>\n",
       "      <td>NaN</td>\n",
       "      <td>NaN</td>\n",
       "      <td>NaN</td>\n",
       "      <td>NaN</td>\n",
       "      <td>NaN</td>\n",
       "      <td>NaN</td>\n",
       "      <td>NaN</td>\n",
       "      <td>Adult not sampled.</td>\n",
       "    </tr>\n",
       "    <tr>\n",
       "      <th>4</th>\n",
       "      <td>PAL0708</td>\n",
       "      <td>5</td>\n",
       "      <td>Adelie Penguin (Pygoscelis adeliae)</td>\n",
       "      <td>Anvers</td>\n",
       "      <td>Torgersen</td>\n",
       "      <td>Adult, 1 Egg Stage</td>\n",
       "      <td>N3A1</td>\n",
       "      <td>Yes</td>\n",
       "      <td>11/16/07</td>\n",
       "      <td>36.7</td>\n",
       "      <td>19.3</td>\n",
       "      <td>193.0</td>\n",
       "      <td>3450.0</td>\n",
       "      <td>FEMALE</td>\n",
       "      <td>8.76651</td>\n",
       "      <td>-25.32426</td>\n",
       "      <td>NaN</td>\n",
       "    </tr>\n",
       "  </tbody>\n",
       "</table>\n",
       "</div>"
      ],
      "text/plain": [
       "  studyName  Sample Number                              Species  Region  \\\n",
       "0   PAL0708              1  Adelie Penguin (Pygoscelis adeliae)  Anvers   \n",
       "1   PAL0708              2  Adelie Penguin (Pygoscelis adeliae)  Anvers   \n",
       "2   PAL0708              3  Adelie Penguin (Pygoscelis adeliae)  Anvers   \n",
       "3   PAL0708              4  Adelie Penguin (Pygoscelis adeliae)  Anvers   \n",
       "4   PAL0708              5  Adelie Penguin (Pygoscelis adeliae)  Anvers   \n",
       "\n",
       "      Island               Stage Individual ID Clutch Completion  Date Egg  \\\n",
       "0  Torgersen  Adult, 1 Egg Stage          N1A1               Yes  11/11/07   \n",
       "1  Torgersen  Adult, 1 Egg Stage          N1A2               Yes  11/11/07   \n",
       "2  Torgersen  Adult, 1 Egg Stage          N2A1               Yes  11/16/07   \n",
       "3  Torgersen  Adult, 1 Egg Stage          N2A2               Yes  11/16/07   \n",
       "4  Torgersen  Adult, 1 Egg Stage          N3A1               Yes  11/16/07   \n",
       "\n",
       "   Culmen Length (mm)  Culmen Depth (mm)  Flipper Length (mm)  Body Mass (g)  \\\n",
       "0                39.1               18.7                181.0         3750.0   \n",
       "1                39.5               17.4                186.0         3800.0   \n",
       "2                40.3               18.0                195.0         3250.0   \n",
       "3                 NaN                NaN                  NaN            NaN   \n",
       "4                36.7               19.3                193.0         3450.0   \n",
       "\n",
       "      Sex  Delta 15 N (o/oo)  Delta 13 C (o/oo)  \\\n",
       "0    MALE                NaN                NaN   \n",
       "1  FEMALE            8.94956          -24.69454   \n",
       "2  FEMALE            8.36821          -25.33302   \n",
       "3     NaN                NaN                NaN   \n",
       "4  FEMALE            8.76651          -25.32426   \n",
       "\n",
       "                         Comments  \n",
       "0  Not enough blood for isotopes.  \n",
       "1                             NaN  \n",
       "2                             NaN  \n",
       "3              Adult not sampled.  \n",
       "4                             NaN  "
      ]
     },
     "execution_count": 88,
     "metadata": {},
     "output_type": "execute_result"
    }
   ],
   "source": [
    "penguins = pd.read_csv('https://raw.githubusercontent.com/JiayunMeng/group_project_pic16a/main/palmer_penguins.csv')\n",
    "penguins.head()"
   ]
  },
  {
   "cell_type": "markdown",
   "id": "df6a88b0",
   "metadata": {},
   "source": [
    "By exploring the data a little, we see that all penguins are in the same `Region` and the same `Stage`. At the same time, `studyName`, `Sample Number`, `Individual ID`, and `Data Egg` are intuitively irrelevant to species. As a result, we delete all above columns and then delete every samples still with `NaN` value.\n",
    "\n",
    "Also, one of the sample has `.` as `Sex`. This is very weird. We delete this sample as well.\n",
    "\n",
    "Finally, we transform `Clutch Completion`, `Sex`, `Island`, and `Species` to numerical values and shortened the name of the species.\n",
    "\n",
    "For your information, the function `prep_data` is designed for these."
   ]
  },
  {
   "cell_type": "code",
   "execution_count": 89,
   "id": "acc19169",
   "metadata": {},
   "outputs": [
    {
     "data": {
      "text/html": [
       "<div>\n",
       "<style scoped>\n",
       "    .dataframe tbody tr th:only-of-type {\n",
       "        vertical-align: middle;\n",
       "    }\n",
       "\n",
       "    .dataframe tbody tr th {\n",
       "        vertical-align: top;\n",
       "    }\n",
       "\n",
       "    .dataframe thead th {\n",
       "        text-align: right;\n",
       "    }\n",
       "</style>\n",
       "<table border=\"1\" class=\"dataframe\">\n",
       "  <thead>\n",
       "    <tr style=\"text-align: right;\">\n",
       "      <th></th>\n",
       "      <th>Species</th>\n",
       "      <th>Island</th>\n",
       "      <th>Clutch Completion</th>\n",
       "      <th>Culmen Length (mm)</th>\n",
       "      <th>Culmen Depth (mm)</th>\n",
       "      <th>Flipper Length (mm)</th>\n",
       "      <th>Body Mass (g)</th>\n",
       "      <th>Sex</th>\n",
       "      <th>Delta 15 N (o/oo)</th>\n",
       "      <th>Delta 13 C (o/oo)</th>\n",
       "    </tr>\n",
       "  </thead>\n",
       "  <tbody>\n",
       "    <tr>\n",
       "      <th>1</th>\n",
       "      <td>0</td>\n",
       "      <td>2</td>\n",
       "      <td>1</td>\n",
       "      <td>39.5</td>\n",
       "      <td>17.4</td>\n",
       "      <td>186.0</td>\n",
       "      <td>3800.0</td>\n",
       "      <td>0</td>\n",
       "      <td>8.94956</td>\n",
       "      <td>-24.69454</td>\n",
       "    </tr>\n",
       "    <tr>\n",
       "      <th>2</th>\n",
       "      <td>0</td>\n",
       "      <td>2</td>\n",
       "      <td>1</td>\n",
       "      <td>40.3</td>\n",
       "      <td>18.0</td>\n",
       "      <td>195.0</td>\n",
       "      <td>3250.0</td>\n",
       "      <td>0</td>\n",
       "      <td>8.36821</td>\n",
       "      <td>-25.33302</td>\n",
       "    </tr>\n",
       "    <tr>\n",
       "      <th>4</th>\n",
       "      <td>0</td>\n",
       "      <td>2</td>\n",
       "      <td>1</td>\n",
       "      <td>36.7</td>\n",
       "      <td>19.3</td>\n",
       "      <td>193.0</td>\n",
       "      <td>3450.0</td>\n",
       "      <td>0</td>\n",
       "      <td>8.76651</td>\n",
       "      <td>-25.32426</td>\n",
       "    </tr>\n",
       "    <tr>\n",
       "      <th>5</th>\n",
       "      <td>0</td>\n",
       "      <td>2</td>\n",
       "      <td>1</td>\n",
       "      <td>39.3</td>\n",
       "      <td>20.6</td>\n",
       "      <td>190.0</td>\n",
       "      <td>3650.0</td>\n",
       "      <td>1</td>\n",
       "      <td>8.66496</td>\n",
       "      <td>-25.29805</td>\n",
       "    </tr>\n",
       "    <tr>\n",
       "      <th>6</th>\n",
       "      <td>0</td>\n",
       "      <td>2</td>\n",
       "      <td>0</td>\n",
       "      <td>38.9</td>\n",
       "      <td>17.8</td>\n",
       "      <td>181.0</td>\n",
       "      <td>3625.0</td>\n",
       "      <td>0</td>\n",
       "      <td>9.18718</td>\n",
       "      <td>-25.21799</td>\n",
       "    </tr>\n",
       "  </tbody>\n",
       "</table>\n",
       "</div>"
      ],
      "text/plain": [
       "   Species  Island  Clutch Completion  Culmen Length (mm)  Culmen Depth (mm)  \\\n",
       "1        0       2                  1                39.5               17.4   \n",
       "2        0       2                  1                40.3               18.0   \n",
       "4        0       2                  1                36.7               19.3   \n",
       "5        0       2                  1                39.3               20.6   \n",
       "6        0       2                  0                38.9               17.8   \n",
       "\n",
       "   Flipper Length (mm)  Body Mass (g)  Sex  Delta 15 N (o/oo)  \\\n",
       "1                186.0         3800.0    0            8.94956   \n",
       "2                195.0         3250.0    0            8.36821   \n",
       "4                193.0         3450.0    0            8.76651   \n",
       "5                190.0         3650.0    1            8.66496   \n",
       "6                181.0         3625.0    0            9.18718   \n",
       "\n",
       "   Delta 13 C (o/oo)  \n",
       "1          -24.69454  \n",
       "2          -25.33302  \n",
       "4          -25.32426  \n",
       "5          -25.29805  \n",
       "6          -25.21799  "
      ]
     },
     "execution_count": 89,
     "metadata": {},
     "output_type": "execute_result"
    }
   ],
   "source": [
    "df = prep_data(penguins)\n",
    "df.head()"
   ]
  },
  {
   "cell_type": "markdown",
   "id": "0818fa2c",
   "metadata": {},
   "source": [
    "The qualitative features are `Island` and `Sex`, while the rest are quantitative features."
   ]
  },
  {
   "cell_type": "markdown",
   "id": "7cfd1862",
   "metadata": {},
   "source": [
    "# Combinations of Features\n",
    "Next, we determine all possible combination of one qualitative feature and two quantitative features as follows."
   ]
  },
  {
   "cell_type": "code",
   "execution_count": 90,
   "id": "952abc75",
   "metadata": {},
   "outputs": [],
   "source": [
    "col = list(df.drop('Species', axis = 1).columns)\n",
    "# col is a list of all predictor features\n",
    "comb = list(combinations(col, 3))\n",
    "# comb is a list of all combinations of three predictor features\n",
    "comb = [c for c in comb if (('Island' in c or 'Sex' in c) and ('Island' not in c or 'Sex' not in c))]\n",
    "# comb is a list of all combinations of one qualitative feature and two quantitative features"
   ]
  },
  {
   "cell_type": "markdown",
   "id": "81963ee3",
   "metadata": {},
   "source": [
    "The combinations are stored as tuples. Mathematically, we have 42 possible combinations. This can be used as a quick check."
   ]
  },
  {
   "cell_type": "code",
   "execution_count": 91,
   "id": "1a48a008",
   "metadata": {},
   "outputs": [
    {
     "name": "stdout",
     "output_type": "stream",
     "text": [
      "('Island', 'Clutch Completion', 'Culmen Length (mm)')\n",
      "42\n"
     ]
    }
   ],
   "source": [
    "print(comb[0])\n",
    "print(len(comb))"
   ]
  },
  {
   "cell_type": "markdown",
   "id": "f82904ba",
   "metadata": {},
   "source": [
    "# The Best Combination\n",
    "In this section, we introduce a class `pred_alg_comb`. The initial values of the class are a training set, a testing set, an algorithm name, and all combinations used for prediction. The algorithms are restricted to Random Forest `rf` and Gradient Boosting `gb`. The will be a value error if other algorithms are entered."
   ]
  },
  {
   "cell_type": "code",
   "execution_count": 92,
   "id": "92143876",
   "metadata": {},
   "outputs": [],
   "source": [
    "X = df.drop(['Species'], axis = 1)\n",
    "y = df['Species']"
   ]
  },
  {
   "cell_type": "code",
   "execution_count": 93,
   "id": "5b3c1301",
   "metadata": {},
   "outputs": [],
   "source": [
    "X_train, X_test, y_train, y_test = train_test_split(X, y, test_size=0.3)"
   ]
  },
  {
   "cell_type": "code",
   "execution_count": 94,
   "id": "70982412",
   "metadata": {
    "scrolled": true
   },
   "outputs": [
    {
     "ename": "ValueError",
     "evalue": "The algorithm should be either Random Forest or Gradient Boosting.",
     "output_type": "error",
     "traceback": [
      "\u001b[0;31m---------------------------------------------------------------------------\u001b[0m",
      "\u001b[0;31mValueError\u001b[0m                                Traceback (most recent call last)",
      "\u001b[0;32m/var/folders/07/s55yk2gx6s563l2wgppmd38w0000gn/T/ipykernel_43466/1874415228.py\u001b[0m in \u001b[0;36m<module>\u001b[0;34m\u001b[0m\n\u001b[0;32m----> 1\u001b[0;31m \u001b[0mpred_alg_comb\u001b[0m\u001b[0;34m(\u001b[0m\u001b[0mX_train\u001b[0m\u001b[0;34m,\u001b[0m \u001b[0my_train\u001b[0m\u001b[0;34m,\u001b[0m \u001b[0mX_test\u001b[0m\u001b[0;34m,\u001b[0m \u001b[0my_test\u001b[0m\u001b[0;34m,\u001b[0m \u001b[0;34m'f'\u001b[0m\u001b[0;34m,\u001b[0m \u001b[0mcomb\u001b[0m\u001b[0;34m)\u001b[0m\u001b[0;34m\u001b[0m\u001b[0;34m\u001b[0m\u001b[0m\n\u001b[0m",
      "\u001b[0;32m~/Desktop/2022 Winter/PIC 16A/Final Project/penguins.py\u001b[0m in \u001b[0;36m__init__\u001b[0;34m(self, X_train, y_train, X_test, y_test, alg_type, comb)\u001b[0m\n\u001b[1;32m     44\u001b[0m         \u001b[0mself\u001b[0m\u001b[0;34m.\u001b[0m\u001b[0my_test\u001b[0m \u001b[0;34m=\u001b[0m \u001b[0my_test\u001b[0m\u001b[0;34m\u001b[0m\u001b[0;34m\u001b[0m\u001b[0m\n\u001b[1;32m     45\u001b[0m         \u001b[0;32mif\u001b[0m \u001b[0malg_type\u001b[0m \u001b[0;32mnot\u001b[0m \u001b[0;32min\u001b[0m \u001b[0;34m[\u001b[0m\u001b[0;34m'rf'\u001b[0m\u001b[0;34m,\u001b[0m \u001b[0;34m'gb'\u001b[0m\u001b[0;34m]\u001b[0m\u001b[0;34m:\u001b[0m\u001b[0;34m\u001b[0m\u001b[0;34m\u001b[0m\u001b[0m\n\u001b[0;32m---> 46\u001b[0;31m             \u001b[0;32mraise\u001b[0m \u001b[0mValueError\u001b[0m\u001b[0;34m(\u001b[0m\u001b[0;34m'The algorithm should be either Random Forest or Gradient Boosting.'\u001b[0m\u001b[0;34m)\u001b[0m\u001b[0;34m\u001b[0m\u001b[0;34m\u001b[0m\u001b[0m\n\u001b[0m\u001b[1;32m     47\u001b[0m         \u001b[0;32melse\u001b[0m\u001b[0;34m:\u001b[0m\u001b[0;34m\u001b[0m\u001b[0;34m\u001b[0m\u001b[0m\n\u001b[1;32m     48\u001b[0m             \u001b[0mself\u001b[0m\u001b[0;34m.\u001b[0m\u001b[0malg_type\u001b[0m \u001b[0;34m=\u001b[0m \u001b[0malg_type\u001b[0m\u001b[0;34m\u001b[0m\u001b[0;34m\u001b[0m\u001b[0m\n",
      "\u001b[0;31mValueError\u001b[0m: The algorithm should be either Random Forest or Gradient Boosting."
     ]
    }
   ],
   "source": [
    "pred_alg_comb(X_train, y_train, X_test, y_test, 'f', comb)"
   ]
  },
  {
   "cell_type": "markdown",
   "id": "851a0742",
   "metadata": {},
   "source": [
    "Now we define an instance of `pred_alg_comb` with algorithm as Gradient Boosting and explore the three functions of the class."
   ]
  },
  {
   "cell_type": "code",
   "execution_count": 95,
   "id": "5a909242",
   "metadata": {},
   "outputs": [],
   "source": [
    "gb = pred_alg_comb(X_train, y_train, X_test, y_test, 'gb', comb)"
   ]
  },
  {
   "cell_type": "markdown",
   "id": "535753f4",
   "metadata": {},
   "source": [
    "The first function we explore is `model`. The input is a combination of predictor features and the function will return the model trained by the predictor features and the mean cross validation score of the model. The following is an example."
   ]
  },
  {
   "cell_type": "code",
   "execution_count": 96,
   "id": "a0ce8eab",
   "metadata": {},
   "outputs": [],
   "source": [
    "pred_features = ['Sex', 'Culmen Depth (mm)', 'Clutch Completion']\n",
    "alg, score = gb.model(pred_features)"
   ]
  },
  {
   "cell_type": "code",
   "execution_count": 97,
   "id": "19b2f134",
   "metadata": {},
   "outputs": [
    {
     "data": {
      "text/plain": [
       "0.7551020408163265"
      ]
     },
     "execution_count": 97,
     "metadata": {},
     "output_type": "execute_result"
    }
   ],
   "source": [
    "alg.score(X_test[pred_features], y_test)"
   ]
  },
  {
   "cell_type": "markdown",
   "id": "5a4b834f",
   "metadata": {},
   "source": [
    "For the function `model`, we check if the number of input features are three and if the input features are predictor features."
   ]
  },
  {
   "cell_type": "code",
   "execution_count": 98,
   "id": "8dc68a2d",
   "metadata": {},
   "outputs": [
    {
     "ename": "ValueError",
     "evalue": "Three predictor features should be entered.",
     "output_type": "error",
     "traceback": [
      "\u001b[0;31m---------------------------------------------------------------------------\u001b[0m",
      "\u001b[0;31mValueError\u001b[0m                                Traceback (most recent call last)",
      "\u001b[0;32m/var/folders/07/s55yk2gx6s563l2wgppmd38w0000gn/T/ipykernel_43466/1015982934.py\u001b[0m in \u001b[0;36m<module>\u001b[0;34m\u001b[0m\n\u001b[1;32m      1\u001b[0m \u001b[0mpred_features\u001b[0m \u001b[0;34m=\u001b[0m \u001b[0;34m[\u001b[0m\u001b[0;34m'Sex'\u001b[0m\u001b[0;34m,\u001b[0m \u001b[0;34m'Culmen Depth (mm)'\u001b[0m\u001b[0;34m]\u001b[0m\u001b[0;34m\u001b[0m\u001b[0;34m\u001b[0m\u001b[0m\n\u001b[0;32m----> 2\u001b[0;31m \u001b[0mgb\u001b[0m\u001b[0;34m.\u001b[0m\u001b[0mmodel\u001b[0m\u001b[0;34m(\u001b[0m\u001b[0mpred_features\u001b[0m\u001b[0;34m)\u001b[0m\u001b[0;34m\u001b[0m\u001b[0;34m\u001b[0m\u001b[0m\n\u001b[0m",
      "\u001b[0;32m~/Desktop/2022 Winter/PIC 16A/Final Project/penguins.py\u001b[0m in \u001b[0;36mmodel\u001b[0;34m(self, f)\u001b[0m\n\u001b[1;32m     62\u001b[0m     \u001b[0;32mdef\u001b[0m \u001b[0mmodel\u001b[0m\u001b[0;34m(\u001b[0m\u001b[0mself\u001b[0m\u001b[0;34m,\u001b[0m \u001b[0mf\u001b[0m\u001b[0;34m)\u001b[0m\u001b[0;34m:\u001b[0m\u001b[0;34m\u001b[0m\u001b[0;34m\u001b[0m\u001b[0m\n\u001b[1;32m     63\u001b[0m         \u001b[0;32mif\u001b[0m \u001b[0mlen\u001b[0m\u001b[0;34m(\u001b[0m\u001b[0mf\u001b[0m\u001b[0;34m)\u001b[0m \u001b[0;34m!=\u001b[0m \u001b[0;36m3\u001b[0m\u001b[0;34m:\u001b[0m\u001b[0;34m\u001b[0m\u001b[0;34m\u001b[0m\u001b[0m\n\u001b[0;32m---> 64\u001b[0;31m             \u001b[0;32mraise\u001b[0m \u001b[0mValueError\u001b[0m\u001b[0;34m(\u001b[0m\u001b[0;34m'Three predictor features should be entered.'\u001b[0m\u001b[0;34m)\u001b[0m\u001b[0;34m\u001b[0m\u001b[0;34m\u001b[0m\u001b[0m\n\u001b[0m\u001b[1;32m     65\u001b[0m         \u001b[0;32mfor\u001b[0m \u001b[0mfeature\u001b[0m \u001b[0;32min\u001b[0m \u001b[0mf\u001b[0m\u001b[0;34m:\u001b[0m\u001b[0;34m\u001b[0m\u001b[0;34m\u001b[0m\u001b[0m\n\u001b[1;32m     66\u001b[0m             \u001b[0;32mif\u001b[0m \u001b[0mfeature\u001b[0m \u001b[0;32mnot\u001b[0m \u001b[0;32min\u001b[0m \u001b[0mself\u001b[0m\u001b[0;34m.\u001b[0m\u001b[0mX_train\u001b[0m\u001b[0;34m.\u001b[0m\u001b[0mcolumns\u001b[0m\u001b[0;34m:\u001b[0m\u001b[0;34m\u001b[0m\u001b[0;34m\u001b[0m\u001b[0m\n",
      "\u001b[0;31mValueError\u001b[0m: Three predictor features should be entered."
     ]
    }
   ],
   "source": [
    "pred_features = ['Sex', 'Culmen Depth (mm)']\n",
    "gb.model(pred_features)"
   ]
  },
  {
   "cell_type": "code",
   "execution_count": null,
   "id": "a8a952a8",
   "metadata": {},
   "outputs": [],
   "source": [
    "pred_features = ['Sex', 'Culmen Depth (mm)', 'Species']\n",
    "gb.model(pred_features)"
   ]
  },
  {
   "cell_type": "markdown",
   "id": "60c58d89",
   "metadata": {},
   "source": [
    "The second function of the class `pred_alg_comb` is `find_features`. It helps determine the combination of predictor values that trains the best model with the help of cross validation. The function returns the best model and the best combination."
   ]
  },
  {
   "cell_type": "code",
   "execution_count": 99,
   "id": "424c5448",
   "metadata": {},
   "outputs": [],
   "source": [
    "best_comb_gb, best_model_gb = gb.find_features()"
   ]
  },
  {
   "cell_type": "code",
   "execution_count": 100,
   "id": "28e0d49b",
   "metadata": {
    "scrolled": false
   },
   "outputs": [
    {
     "name": "stdout",
     "output_type": "stream",
     "text": [
      "('Island', 'Culmen Length (mm)', 'Flipper Length (mm)')\n"
     ]
    }
   ],
   "source": [
    "print(best_comb_gb)"
   ]
  },
  {
   "cell_type": "markdown",
   "id": "6bb274a1",
   "metadata": {},
   "source": [
    "It worths noticing that the best combination and the best model are stored as values of `gb`."
   ]
  },
  {
   "cell_type": "code",
   "execution_count": 101,
   "id": "7950c9ac",
   "metadata": {},
   "outputs": [
    {
     "data": {
      "text/plain": [
       "('Island', 'Culmen Length (mm)', 'Flipper Length (mm)')"
      ]
     },
     "execution_count": 101,
     "metadata": {},
     "output_type": "execute_result"
    }
   ],
   "source": [
    "gb.best_comb"
   ]
  },
  {
   "cell_type": "code",
   "execution_count": 102,
   "id": "7debf6a9",
   "metadata": {},
   "outputs": [
    {
     "data": {
      "text/plain": [
       "GradientBoostingClassifier(n_estimators=40)"
      ]
     },
     "execution_count": 102,
     "metadata": {},
     "output_type": "execute_result"
    }
   ],
   "source": [
    "gb.best_model"
   ]
  },
  {
   "cell_type": "markdown",
   "id": "52ec411e",
   "metadata": {},
   "source": [
    "The third function is `score_test`. It gives the score that represents how well the best model performs on the testing set. As the best model is a value of `gb`, no input is required."
   ]
  },
  {
   "cell_type": "code",
   "execution_count": 103,
   "id": "b6342449",
   "metadata": {},
   "outputs": [
    {
     "data": {
      "text/plain": [
       "0.9693877551020408"
      ]
     },
     "execution_count": 103,
     "metadata": {},
     "output_type": "execute_result"
    }
   ],
   "source": [
    "gb.score_test()"
   ]
  },
  {
   "cell_type": "markdown",
   "id": "1b21ada7",
   "metadata": {},
   "source": [
    "Similarly, we determine the best combination with respect to the algorithm Random Forest and check how well the best model performs."
   ]
  },
  {
   "cell_type": "code",
   "execution_count": 104,
   "id": "8bd5338c",
   "metadata": {},
   "outputs": [],
   "source": [
    "rf = pred_alg_comb(X_train, y_train, X_test, y_test, 'rf', comb)\n",
    "best_comb_rf, best_model_rf = rf.find_features()\n",
    "score_rf = rf.score_test()"
   ]
  },
  {
   "cell_type": "code",
   "execution_count": 105,
   "id": "a5bb1239",
   "metadata": {},
   "outputs": [
    {
     "name": "stdout",
     "output_type": "stream",
     "text": [
      "('Island', 'Culmen Length (mm)', 'Culmen Depth (mm)')\n",
      "0.9795918367346939\n"
     ]
    }
   ],
   "source": [
    "print(best_comb_rf)\n",
    "print(score_rf)"
   ]
  },
  {
   "cell_type": "markdown",
   "id": "3ed1b06c",
   "metadata": {},
   "source": [
    "# Check the Model\n",
    "At the end, we explore the data a bit. Though the best combination varies as the splitting of the training and testing sets varies and the Random Forest testing itself gives different results each time, we can see some predictor features are relevant to the target feature `Species` by eyes."
   ]
  },
  {
   "cell_type": "code",
   "execution_count": 106,
   "id": "72804480",
   "metadata": {},
   "outputs": [
    {
     "data": {
      "image/png": "[encoded data removed]",
      "text/plain": [
       "<Figure size 1440x3600 with 6 Axes>"
      ]
     },
     "metadata": {
      "needs_background": "light"
     },
     "output_type": "display_data"
    }
   ],
   "source": [
    "features = ['Culmen Length (mm)', 'Culmen Depth (mm)', 'Flipper Length (mm)', 'Body Mass (g)', 'Delta 15 N (o/oo)', 'Delta 13 C (o/oo)']\n",
    "plot_graph(df, features, 'Species')"
   ]
  },
  {
   "cell_type": "markdown",
   "id": "12da9c97",
   "metadata": {},
   "source": [
    "If we zoom into some predictor features, we can see the data of a species can be very different from the data of the other two. The `Culmen Length (mm)` of species 0 is greatly shorter than species 1 and 2, while the `Culmen Depth (mm)` of Species 2 is greatly shallower than species 0 and 1. In fact, we can see these pattern in the plot of `Culmen Length (mm)`, `Culmen Depth (mm)`, `Flipper Length (mm)` and `Body Mass (g)`. \n",
    "\n",
    "On the other hand, `Delta 15 N (o/oo)` and `Delta 13 C (o/oo)` can help us exclude a species. For example, if a penguin has a very low `Delta 15 N (o/oo)`, then it is not likely to be species 1.\n",
    "\n",
    "As the data itself is very great, it is reasonable that the prediction made by the best model performs very well."
   ]
  },
  {
   "cell_type": "markdown",
   "id": "b2d54c86",
   "metadata": {},
   "source": [
    "### Gradient Boosting "
   ]
  },
  {
   "cell_type": "code",
   "execution_count": 107,
   "id": "07f4cd73",
   "metadata": {},
   "outputs": [
    {
     "name": "stdout",
     "output_type": "stream",
     "text": [
      "('Island', 'Culmen Length (mm)', 'Flipper Length (mm)')\n"
     ]
    },
    {
     "data": {
      "image/png": "[encoded data removed]",
      "text/plain": [
       "<Figure size 432x288 with 2 Axes>"
      ]
     },
     "metadata": {
      "needs_background": "light"
     },
     "output_type": "display_data"
    }
   ],
   "source": [
    "print(best_comb_gb)\n",
    "best_model_gb.fit(X_train,y_train)\n",
    "plot_confusion_matrix(best_model_gb,X_test, y_test)"
   ]
  },
  {
   "cell_type": "markdown",
   "id": "716f8ed7",
   "metadata": {},
   "source": [
    "From the above confusion matrix, it seems like our raondom forest model with combination features 'Island', 'Culmen Length (mm)', 'Flipper Length (mm)' is good because the prediction is wrong only four times.\n",
    "\n",
    "Note: Since the splitting of the training and testing sets varies and the Random Forest testing itself gives different results each time, the features, scores and confusion matrix would be different."
   ]
  },
  {
   "cell_type": "markdown",
   "id": "808039f0",
   "metadata": {},
   "source": [
    "### Random Forest"
   ]
  },
  {
   "cell_type": "code",
   "execution_count": 108,
   "id": "7535e7ef",
   "metadata": {},
   "outputs": [
    {
     "name": "stdout",
     "output_type": "stream",
     "text": [
      "('Island', 'Culmen Length (mm)', 'Culmen Depth (mm)')\n"
     ]
    },
    {
     "data": {
      "image/png": "[encoded data removed]",
      "text/plain": [
       "<Figure size 432x288 with 2 Axes>"
      ]
     },
     "metadata": {
      "needs_background": "light"
     },
     "output_type": "display_data"
    }
   ],
   "source": [
    "print(best_comb_rf)\n",
    "best_model_rf.fit(X_train,y_train)\n",
    "plot_confusion_matrix(best_model_rf,X_test, y_test)"
   ]
  },
  {
   "cell_type": "markdown",
   "id": "0e63acf7",
   "metadata": {},
   "source": [
    "From the above confusion matrix, it seems like our raondom forest model with combination features 'Island', 'Culmen Length (mm)', 'Culmen Depth (mm)' is good because the prediction is wrong only three times.\n",
    "\n",
    "Note: Since the splitting of the training and testing sets varies and the Random Forest testing itself gives different results each time, the features, scores and confusion matrix would be different."
   ]
  },
  {
   "cell_type": "markdown",
   "id": "6e79367e",
   "metadata": {},
   "source": [
    "# Conclusion\n",
    "Thank you very much for reading our demo file! After we determine the best combination of features with Gradient Boosting and Random Forest, and check the model accuracy, which is quite good. We believe our aim of this project is achieved!"
   ]
  },
  {
   "cell_type": "code",
   "execution_count": null,
   "id": "e20c957c",
   "metadata": {},
   "outputs": [],
   "source": []
  }
 ],
 "metadata": {
  "kernelspec": {
   "display_name": "Python 3 (ipykernel)",
   "language": "python",
   "name": "python3"
  },
  "language_info": {
   "codemirror_mode": {
    "name": "ipython",
    "version": 3
   },
   "file_extension": ".py",
   "mimetype": "text/x-python",
   "name": "python",
   "nbconvert_exporter": "python",
   "pygments_lexer": "ipython3",
   "version": "3.9.7"
  }
 },
 "nbformat": 4,
 "nbformat_minor": 5
}
